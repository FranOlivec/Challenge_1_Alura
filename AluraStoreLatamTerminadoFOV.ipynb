{
  "nbformat": 4,
  "nbformat_minor": 0,
  "metadata": {
    "colab": {
      "provenance": []
    },
    "kernelspec": {
      "name": "python3",
      "display_name": "Python 3"
    },
    "language_info": {
      "name": "python"
    }
  },
  "cells": [
    {
      "cell_type": "markdown",
      "source": [
        "### Importación de datos\n",
        "\n"
      ],
      "metadata": {
        "id": "RhEdWd9YUR6H"
      }
    },
    {
      "cell_type": "code",
      "execution_count": 81,
      "metadata": {
        "colab": {
          "base_uri": "https://localhost:8080/",
          "height": 206
        },
        "id": "T3EvaeQ_INIL",
        "outputId": "dad368c2-c0e5-4094-c617-3ff44338e751"
      },
      "outputs": [
        {
          "output_type": "execute_result",
          "data": {
            "text/plain": [
              "            Producto Categoría del Producto    Precio  Costo de envío  \\\n",
              "0  Asistente virtual           Electrónicos  164300.0          6900.0   \n",
              "1    Mesa de comedor                Muebles  192300.0          8400.0   \n",
              "2      Juego de mesa               Juguetes  209600.0         15900.0   \n",
              "3         Microondas      Electrodomésticos  757500.0         41000.0   \n",
              "4   Silla de oficina                Muebles  335200.0         20200.0   \n",
              "\n",
              "  Fecha de Compra         Vendedor Lugar de Compra  Calificación  \\\n",
              "0      16/01/2021      Pedro Gomez          Bogotá             4   \n",
              "1      18/05/2022  Beatriz Morales        Medellín             1   \n",
              "2      15/03/2021   Juan Fernandez       Cartagena             1   \n",
              "3      03/05/2022   Juan Fernandez            Cali             4   \n",
              "4      07/11/2020    Maria Alfonso        Medellín             5   \n",
              "\n",
              "       Método de pago  Cantidad de cuotas       lat       lon  \n",
              "0  Tarjeta de crédito                   8   4.60971 -74.08175  \n",
              "1  Tarjeta de crédito                   4   6.25184 -75.56359  \n",
              "2  Tarjeta de crédito                   1  10.39972 -75.51444  \n",
              "3               Nequi                   1   3.43722 -76.52250  \n",
              "4               Nequi                   1   6.25184 -75.56359  "
            ],
            "text/html": [
              "\n",
              "  <div id=\"df-ecb95c2d-a1d4-422e-82a8-e2328910fdd0\" class=\"colab-df-container\">\n",
              "    <div>\n",
              "<style scoped>\n",
              "    .dataframe tbody tr th:only-of-type {\n",
              "        vertical-align: middle;\n",
              "    }\n",
              "\n",
              "    .dataframe tbody tr th {\n",
              "        vertical-align: top;\n",
              "    }\n",
              "\n",
              "    .dataframe thead th {\n",
              "        text-align: right;\n",
              "    }\n",
              "</style>\n",
              "<table border=\"1\" class=\"dataframe\">\n",
              "  <thead>\n",
              "    <tr style=\"text-align: right;\">\n",
              "      <th></th>\n",
              "      <th>Producto</th>\n",
              "      <th>Categoría del Producto</th>\n",
              "      <th>Precio</th>\n",
              "      <th>Costo de envío</th>\n",
              "      <th>Fecha de Compra</th>\n",
              "      <th>Vendedor</th>\n",
              "      <th>Lugar de Compra</th>\n",
              "      <th>Calificación</th>\n",
              "      <th>Método de pago</th>\n",
              "      <th>Cantidad de cuotas</th>\n",
              "      <th>lat</th>\n",
              "      <th>lon</th>\n",
              "    </tr>\n",
              "  </thead>\n",
              "  <tbody>\n",
              "    <tr>\n",
              "      <th>0</th>\n",
              "      <td>Asistente virtual</td>\n",
              "      <td>Electrónicos</td>\n",
              "      <td>164300.0</td>\n",
              "      <td>6900.0</td>\n",
              "      <td>16/01/2021</td>\n",
              "      <td>Pedro Gomez</td>\n",
              "      <td>Bogotá</td>\n",
              "      <td>4</td>\n",
              "      <td>Tarjeta de crédito</td>\n",
              "      <td>8</td>\n",
              "      <td>4.60971</td>\n",
              "      <td>-74.08175</td>\n",
              "    </tr>\n",
              "    <tr>\n",
              "      <th>1</th>\n",
              "      <td>Mesa de comedor</td>\n",
              "      <td>Muebles</td>\n",
              "      <td>192300.0</td>\n",
              "      <td>8400.0</td>\n",
              "      <td>18/05/2022</td>\n",
              "      <td>Beatriz Morales</td>\n",
              "      <td>Medellín</td>\n",
              "      <td>1</td>\n",
              "      <td>Tarjeta de crédito</td>\n",
              "      <td>4</td>\n",
              "      <td>6.25184</td>\n",
              "      <td>-75.56359</td>\n",
              "    </tr>\n",
              "    <tr>\n",
              "      <th>2</th>\n",
              "      <td>Juego de mesa</td>\n",
              "      <td>Juguetes</td>\n",
              "      <td>209600.0</td>\n",
              "      <td>15900.0</td>\n",
              "      <td>15/03/2021</td>\n",
              "      <td>Juan Fernandez</td>\n",
              "      <td>Cartagena</td>\n",
              "      <td>1</td>\n",
              "      <td>Tarjeta de crédito</td>\n",
              "      <td>1</td>\n",
              "      <td>10.39972</td>\n",
              "      <td>-75.51444</td>\n",
              "    </tr>\n",
              "    <tr>\n",
              "      <th>3</th>\n",
              "      <td>Microondas</td>\n",
              "      <td>Electrodomésticos</td>\n",
              "      <td>757500.0</td>\n",
              "      <td>41000.0</td>\n",
              "      <td>03/05/2022</td>\n",
              "      <td>Juan Fernandez</td>\n",
              "      <td>Cali</td>\n",
              "      <td>4</td>\n",
              "      <td>Nequi</td>\n",
              "      <td>1</td>\n",
              "      <td>3.43722</td>\n",
              "      <td>-76.52250</td>\n",
              "    </tr>\n",
              "    <tr>\n",
              "      <th>4</th>\n",
              "      <td>Silla de oficina</td>\n",
              "      <td>Muebles</td>\n",
              "      <td>335200.0</td>\n",
              "      <td>20200.0</td>\n",
              "      <td>07/11/2020</td>\n",
              "      <td>Maria Alfonso</td>\n",
              "      <td>Medellín</td>\n",
              "      <td>5</td>\n",
              "      <td>Nequi</td>\n",
              "      <td>1</td>\n",
              "      <td>6.25184</td>\n",
              "      <td>-75.56359</td>\n",
              "    </tr>\n",
              "  </tbody>\n",
              "</table>\n",
              "</div>\n",
              "    <div class=\"colab-df-buttons\">\n",
              "\n",
              "  <div class=\"colab-df-container\">\n",
              "    <button class=\"colab-df-convert\" onclick=\"convertToInteractive('df-ecb95c2d-a1d4-422e-82a8-e2328910fdd0')\"\n",
              "            title=\"Convert this dataframe to an interactive table.\"\n",
              "            style=\"display:none;\">\n",
              "\n",
              "  <svg xmlns=\"http://www.w3.org/2000/svg\" height=\"24px\" viewBox=\"0 -960 960 960\">\n",
              "    <path d=\"M120-120v-720h720v720H120Zm60-500h600v-160H180v160Zm220 220h160v-160H400v160Zm0 220h160v-160H400v160ZM180-400h160v-160H180v160Zm440 0h160v-160H620v160ZM180-180h160v-160H180v160Zm440 0h160v-160H620v160Z\"/>\n",
              "  </svg>\n",
              "    </button>\n",
              "\n",
              "  <style>\n",
              "    .colab-df-container {\n",
              "      display:flex;\n",
              "      gap: 12px;\n",
              "    }\n",
              "\n",
              "    .colab-df-convert {\n",
              "      background-color: #E8F0FE;\n",
              "      border: none;\n",
              "      border-radius: 50%;\n",
              "      cursor: pointer;\n",
              "      display: none;\n",
              "      fill: #1967D2;\n",
              "      height: 32px;\n",
              "      padding: 0 0 0 0;\n",
              "      width: 32px;\n",
              "    }\n",
              "\n",
              "    .colab-df-convert:hover {\n",
              "      background-color: #E2EBFA;\n",
              "      box-shadow: 0px 1px 2px rgba(60, 64, 67, 0.3), 0px 1px 3px 1px rgba(60, 64, 67, 0.15);\n",
              "      fill: #174EA6;\n",
              "    }\n",
              "\n",
              "    .colab-df-buttons div {\n",
              "      margin-bottom: 4px;\n",
              "    }\n",
              "\n",
              "    [theme=dark] .colab-df-convert {\n",
              "      background-color: #3B4455;\n",
              "      fill: #D2E3FC;\n",
              "    }\n",
              "\n",
              "    [theme=dark] .colab-df-convert:hover {\n",
              "      background-color: #434B5C;\n",
              "      box-shadow: 0px 1px 3px 1px rgba(0, 0, 0, 0.15);\n",
              "      filter: drop-shadow(0px 1px 2px rgba(0, 0, 0, 0.3));\n",
              "      fill: #FFFFFF;\n",
              "    }\n",
              "  </style>\n",
              "\n",
              "    <script>\n",
              "      const buttonEl =\n",
              "        document.querySelector('#df-ecb95c2d-a1d4-422e-82a8-e2328910fdd0 button.colab-df-convert');\n",
              "      buttonEl.style.display =\n",
              "        google.colab.kernel.accessAllowed ? 'block' : 'none';\n",
              "\n",
              "      async function convertToInteractive(key) {\n",
              "        const element = document.querySelector('#df-ecb95c2d-a1d4-422e-82a8-e2328910fdd0');\n",
              "        const dataTable =\n",
              "          await google.colab.kernel.invokeFunction('convertToInteractive',\n",
              "                                                    [key], {});\n",
              "        if (!dataTable) return;\n",
              "\n",
              "        const docLinkHtml = 'Like what you see? Visit the ' +\n",
              "          '<a target=\"_blank\" href=https://colab.research.google.com/notebooks/data_table.ipynb>data table notebook</a>'\n",
              "          + ' to learn more about interactive tables.';\n",
              "        element.innerHTML = '';\n",
              "        dataTable['output_type'] = 'display_data';\n",
              "        await google.colab.output.renderOutput(dataTable, element);\n",
              "        const docLink = document.createElement('div');\n",
              "        docLink.innerHTML = docLinkHtml;\n",
              "        element.appendChild(docLink);\n",
              "      }\n",
              "    </script>\n",
              "  </div>\n",
              "\n",
              "\n",
              "    <div id=\"df-9669a434-bbe3-49a0-9fa0-ed681084936d\">\n",
              "      <button class=\"colab-df-quickchart\" onclick=\"quickchart('df-9669a434-bbe3-49a0-9fa0-ed681084936d')\"\n",
              "                title=\"Suggest charts\"\n",
              "                style=\"display:none;\">\n",
              "\n",
              "<svg xmlns=\"http://www.w3.org/2000/svg\" height=\"24px\"viewBox=\"0 0 24 24\"\n",
              "     width=\"24px\">\n",
              "    <g>\n",
              "        <path d=\"M19 3H5c-1.1 0-2 .9-2 2v14c0 1.1.9 2 2 2h14c1.1 0 2-.9 2-2V5c0-1.1-.9-2-2-2zM9 17H7v-7h2v7zm4 0h-2V7h2v10zm4 0h-2v-4h2v4z\"/>\n",
              "    </g>\n",
              "</svg>\n",
              "      </button>\n",
              "\n",
              "<style>\n",
              "  .colab-df-quickchart {\n",
              "      --bg-color: #E8F0FE;\n",
              "      --fill-color: #1967D2;\n",
              "      --hover-bg-color: #E2EBFA;\n",
              "      --hover-fill-color: #174EA6;\n",
              "      --disabled-fill-color: #AAA;\n",
              "      --disabled-bg-color: #DDD;\n",
              "  }\n",
              "\n",
              "  [theme=dark] .colab-df-quickchart {\n",
              "      --bg-color: #3B4455;\n",
              "      --fill-color: #D2E3FC;\n",
              "      --hover-bg-color: #434B5C;\n",
              "      --hover-fill-color: #FFFFFF;\n",
              "      --disabled-bg-color: #3B4455;\n",
              "      --disabled-fill-color: #666;\n",
              "  }\n",
              "\n",
              "  .colab-df-quickchart {\n",
              "    background-color: var(--bg-color);\n",
              "    border: none;\n",
              "    border-radius: 50%;\n",
              "    cursor: pointer;\n",
              "    display: none;\n",
              "    fill: var(--fill-color);\n",
              "    height: 32px;\n",
              "    padding: 0;\n",
              "    width: 32px;\n",
              "  }\n",
              "\n",
              "  .colab-df-quickchart:hover {\n",
              "    background-color: var(--hover-bg-color);\n",
              "    box-shadow: 0 1px 2px rgba(60, 64, 67, 0.3), 0 1px 3px 1px rgba(60, 64, 67, 0.15);\n",
              "    fill: var(--button-hover-fill-color);\n",
              "  }\n",
              "\n",
              "  .colab-df-quickchart-complete:disabled,\n",
              "  .colab-df-quickchart-complete:disabled:hover {\n",
              "    background-color: var(--disabled-bg-color);\n",
              "    fill: var(--disabled-fill-color);\n",
              "    box-shadow: none;\n",
              "  }\n",
              "\n",
              "  .colab-df-spinner {\n",
              "    border: 2px solid var(--fill-color);\n",
              "    border-color: transparent;\n",
              "    border-bottom-color: var(--fill-color);\n",
              "    animation:\n",
              "      spin 1s steps(1) infinite;\n",
              "  }\n",
              "\n",
              "  @keyframes spin {\n",
              "    0% {\n",
              "      border-color: transparent;\n",
              "      border-bottom-color: var(--fill-color);\n",
              "      border-left-color: var(--fill-color);\n",
              "    }\n",
              "    20% {\n",
              "      border-color: transparent;\n",
              "      border-left-color: var(--fill-color);\n",
              "      border-top-color: var(--fill-color);\n",
              "    }\n",
              "    30% {\n",
              "      border-color: transparent;\n",
              "      border-left-color: var(--fill-color);\n",
              "      border-top-color: var(--fill-color);\n",
              "      border-right-color: var(--fill-color);\n",
              "    }\n",
              "    40% {\n",
              "      border-color: transparent;\n",
              "      border-right-color: var(--fill-color);\n",
              "      border-top-color: var(--fill-color);\n",
              "    }\n",
              "    60% {\n",
              "      border-color: transparent;\n",
              "      border-right-color: var(--fill-color);\n",
              "    }\n",
              "    80% {\n",
              "      border-color: transparent;\n",
              "      border-right-color: var(--fill-color);\n",
              "      border-bottom-color: var(--fill-color);\n",
              "    }\n",
              "    90% {\n",
              "      border-color: transparent;\n",
              "      border-bottom-color: var(--fill-color);\n",
              "    }\n",
              "  }\n",
              "</style>\n",
              "\n",
              "      <script>\n",
              "        async function quickchart(key) {\n",
              "          const quickchartButtonEl =\n",
              "            document.querySelector('#' + key + ' button');\n",
              "          quickchartButtonEl.disabled = true;  // To prevent multiple clicks.\n",
              "          quickchartButtonEl.classList.add('colab-df-spinner');\n",
              "          try {\n",
              "            const charts = await google.colab.kernel.invokeFunction(\n",
              "                'suggestCharts', [key], {});\n",
              "          } catch (error) {\n",
              "            console.error('Error during call to suggestCharts:', error);\n",
              "          }\n",
              "          quickchartButtonEl.classList.remove('colab-df-spinner');\n",
              "          quickchartButtonEl.classList.add('colab-df-quickchart-complete');\n",
              "        }\n",
              "        (() => {\n",
              "          let quickchartButtonEl =\n",
              "            document.querySelector('#df-9669a434-bbe3-49a0-9fa0-ed681084936d button');\n",
              "          quickchartButtonEl.style.display =\n",
              "            google.colab.kernel.accessAllowed ? 'block' : 'none';\n",
              "        })();\n",
              "      </script>\n",
              "    </div>\n",
              "\n",
              "    </div>\n",
              "  </div>\n"
            ],
            "application/vnd.google.colaboratory.intrinsic+json": {
              "type": "dataframe",
              "variable_name": "tienda",
              "summary": "{\n  \"name\": \"tienda\",\n  \"rows\": 2359,\n  \"fields\": [\n    {\n      \"column\": \"Producto\",\n      \"properties\": {\n        \"dtype\": \"category\",\n        \"num_unique_values\": 51,\n        \"samples\": [\n          \"Guitarra ac\\u00fastica\",\n          \"Bal\\u00f3n de baloncesto\",\n          \"Smartwatch\"\n        ],\n        \"semantic_type\": \"\",\n        \"description\": \"\"\n      }\n    },\n    {\n      \"column\": \"Categor\\u00eda del Producto\",\n      \"properties\": {\n        \"dtype\": \"category\",\n        \"num_unique_values\": 8,\n        \"samples\": [\n          \"Muebles\",\n          \"Deportes y diversi\\u00f3n\",\n          \"Electr\\u00f3nicos\"\n        ],\n        \"semantic_type\": \"\",\n        \"description\": \"\"\n      }\n    },\n    {\n      \"column\": \"Precio\",\n      \"properties\": {\n        \"dtype\": \"number\",\n        \"std\": 614686.7653873172,\n        \"min\": 7600.0,\n        \"max\": 2977000.0,\n        \"num_unique_values\": 1937,\n        \"samples\": [\n          2499400.0,\n          14800.0,\n          80500.0\n        ],\n        \"semantic_type\": \"\",\n        \"description\": \"\"\n      }\n    },\n    {\n      \"column\": \"Costo de env\\u00edo\",\n      \"properties\": {\n        \"dtype\": \"number\",\n        \"std\": 32860.0017825605,\n        \"min\": 0.0,\n        \"max\": 160800.0,\n        \"num_unique_values\": 753,\n        \"samples\": [\n          117800.0,\n          54700.0,\n          45600.0\n        ],\n        \"semantic_type\": \"\",\n        \"description\": \"\"\n      }\n    },\n    {\n      \"column\": \"Fecha de Compra\",\n      \"properties\": {\n        \"dtype\": \"object\",\n        \"num_unique_values\": 1018,\n        \"samples\": [\n          \"15/09/2022\",\n          \"03/06/2020\",\n          \"06/11/2021\"\n        ],\n        \"semantic_type\": \"\",\n        \"description\": \"\"\n      }\n    },\n    {\n      \"column\": \"Vendedor\",\n      \"properties\": {\n        \"dtype\": \"category\",\n        \"num_unique_values\": 14,\n        \"samples\": [\n          \"Juliana Costa\",\n          \"Mariana Herrera\",\n          \"Pedro Gomez\"\n        ],\n        \"semantic_type\": \"\",\n        \"description\": \"\"\n      }\n    },\n    {\n      \"column\": \"Lugar de Compra\",\n      \"properties\": {\n        \"dtype\": \"category\",\n        \"num_unique_values\": 19,\n        \"samples\": [\n          \"Bogot\\u00e1\",\n          \"Pereira\",\n          \"Neiva\"\n        ],\n        \"semantic_type\": \"\",\n        \"description\": \"\"\n      }\n    },\n    {\n      \"column\": \"Calificaci\\u00f3n\",\n      \"properties\": {\n        \"dtype\": \"number\",\n        \"std\": 1,\n        \"min\": 1,\n        \"max\": 5,\n        \"num_unique_values\": 5,\n        \"samples\": [\n          1,\n          2,\n          5\n        ],\n        \"semantic_type\": \"\",\n        \"description\": \"\"\n      }\n    },\n    {\n      \"column\": \"M\\u00e9todo de pago\",\n      \"properties\": {\n        \"dtype\": \"category\",\n        \"num_unique_values\": 4,\n        \"samples\": [\n          \"Nequi\",\n          \"Tarjeta de d\\u00e9bito\",\n          \"Tarjeta de cr\\u00e9dito\"\n        ],\n        \"semantic_type\": \"\",\n        \"description\": \"\"\n      }\n    },\n    {\n      \"column\": \"Cantidad de cuotas\",\n      \"properties\": {\n        \"dtype\": \"number\",\n        \"std\": 2,\n        \"min\": 1,\n        \"max\": 24,\n        \"num_unique_values\": 15,\n        \"samples\": [\n          7,\n          14,\n          8\n        ],\n        \"semantic_type\": \"\",\n        \"description\": \"\"\n      }\n    },\n    {\n      \"column\": \"lat\",\n      \"properties\": {\n        \"dtype\": \"number\",\n        \"std\": 2.2874452492678627,\n        \"min\": -4.21528,\n        \"max\": 11.54444,\n        \"num_unique_values\": 19,\n        \"samples\": [\n          4.60971,\n          4.81333,\n          2.9273\n        ],\n        \"semantic_type\": \"\",\n        \"description\": \"\"\n      }\n    },\n    {\n      \"column\": \"lon\",\n      \"properties\": {\n        \"dtype\": \"number\",\n        \"std\": 1.2178272727088486,\n        \"min\": -77.28111,\n        \"max\": -67.9239,\n        \"num_unique_values\": 19,\n        \"samples\": [\n          -74.08175,\n          -75.69611,\n          -75.28189\n        ],\n        \"semantic_type\": \"\",\n        \"description\": \"\"\n      }\n    }\n  ]\n}"
            }
          },
          "metadata": {},
          "execution_count": 81
        }
      ],
      "source": [
        "import pandas as pd\n",
        "\n",
        "url = \"https://raw.githubusercontent.com/alura-es-cursos/challenge1-data-science-latam/refs/heads/main/base-de-datos-challenge1-latam/tienda_1%20.csv\"\n",
        "url2 = \"https://raw.githubusercontent.com/alura-es-cursos/challenge1-data-science-latam/refs/heads/main/base-de-datos-challenge1-latam/tienda_2.csv\"\n",
        "url3 = \"https://raw.githubusercontent.com/alura-es-cursos/challenge1-data-science-latam/refs/heads/main/base-de-datos-challenge1-latam/tienda_3.csv\"\n",
        "url4 = \"https://raw.githubusercontent.com/alura-es-cursos/challenge1-data-science-latam/refs/heads/main/base-de-datos-challenge1-latam/tienda_4.csv\"\n",
        "\n",
        "tienda = pd.read_csv(url)\n",
        "tienda2 = pd.read_csv(url2)\n",
        "tienda3 = pd.read_csv(url3)\n",
        "tienda4 = pd.read_csv(url4)\n",
        "\n",
        "tienda.head()\n"
      ]
    },
    {
      "cell_type": "markdown",
      "source": [
        "# Pasos Preliminares:\n",
        "### estructurando los datos para que estén correctamente esrtucturados antes de comenzar con el análisis"
      ],
      "metadata": {
        "id": "d_Ya6LOPn5BZ"
      }
    },
    {
      "cell_type": "code",
      "source": [
        "# Convertimos los DataFrames a listas de diccionarios\n",
        "datos_tienda1 = tienda1.to_dict('records')\n",
        "datos_tienda2 = tienda2.to_dict('records')\n",
        "datos_tienda3 = tienda3.to_dict('records')\n",
        "datos_tienda4 = tienda4.to_dict('records')\n"
      ],
      "metadata": {
        "id": "Xxg31FPGuRWN"
      },
      "execution_count": 82,
      "outputs": []
    },
    {
      "cell_type": "code",
      "source": [
        "# verificamos un fila de ejemplo\n",
        "print('Tienda 1:', datos_tienda1[0])"
      ],
      "metadata": {
        "colab": {
          "base_uri": "https://localhost:8080/"
        },
        "id": "8lA0ozOtukw3",
        "outputId": "69bb9509-0dd1-4733-ceaf-b8eafb776efc"
      },
      "execution_count": 83,
      "outputs": [
        {
          "output_type": "stream",
          "name": "stdout",
          "text": [
            "Tienda 1: {'Producto': 'Asistente virtual', 'Categoría del Producto': 'Electrónicos', 'Precio': 164300.0, 'Costo de envío': 6900.0, 'Fecha de Compra': '16/01/2021', 'Vendedor': 'Pedro Gomez', 'Lugar de Compra': 'Bogotá', 'Calificación': 4, 'Método de pago': 'Tarjeta de crédito', 'Cantidad de cuotas': 8, 'lat': 4.60971, 'lon': -74.08175}\n"
          ]
        }
      ]
    },
    {
      "cell_type": "code",
      "source": [
        "# ejecutaremos una función para validar los datos\n",
        "def verificar_datos(tienda, nombre):\n",
        "    errores = 0\n",
        "    for i, fila in enumerate(tienda):\n",
        "        if 'Precio' not in fila:\n",
        "            print(f\"{nombre} - Fila {i}: no tiene el campo 'Precio'\")\n",
        "            errores += 1\n",
        "        elif not isinstance(fila['Precio'], (int, float)):\n",
        "            print(f\"{nombre} - Fila {i}: 'Precio' no es numérico → {fila['Precio']}\")\n",
        "            errores += 1\n",
        "    if errores == 0:\n",
        "        print(f\"{nombre}: todos los registros son válidos.\")\n",
        "    else:\n",
        "        print(f\"{nombre}: se encontraron {errores} registros inválidos.\")\n",
        "\n",
        "# Ejecuta la verificación en cada tienda\n",
        "verificar_datos(datos_tienda1, \"Tienda 1\")\n",
        "verificar_datos(datos_tienda2, \"Tienda 2\")\n",
        "verificar_datos(datos_tienda3, \"Tienda 3\")\n",
        "verificar_datos(datos_tienda4, \"Tienda 4\")"
      ],
      "metadata": {
        "colab": {
          "base_uri": "https://localhost:8080/"
        },
        "id": "f2pHr_chvSRy",
        "outputId": "015141de-bb5a-4da4-f46b-2af82d72a07f"
      },
      "execution_count": 84,
      "outputs": [
        {
          "output_type": "stream",
          "name": "stdout",
          "text": [
            "Tienda 1: todos los registros son válidos.\n",
            "Tienda 2: todos los registros son válidos.\n",
            "Tienda 3: todos los registros son válidos.\n",
            "Tienda 4: todos los registros son válidos.\n"
          ]
        }
      ]
    },
    {
      "cell_type": "code",
      "source": [
        "# Función que permite extraer los precios de una tienda\n",
        "def extraer_precios(tienda):\n",
        "    precios = []\n",
        "    for fila in tienda:\n",
        "        precios.append(fila['Precio'])\n",
        "    return precios\n",
        "\n",
        "# aplicamos la función a cada tienda\n",
        "precios_tienda1 = extraer_precios(datos_tienda1)\n",
        "precios_tienda2 = extraer_precios(datos_tienda2)\n",
        "precios_tienda3 = extraer_precios(datos_tienda3)\n",
        "precios_tienda4 = extraer_precios(datos_tienda4)\n",
        "\n",
        "# verificamos que los 5 primeros precios se hayan extraído bien de manmera visual\n",
        "print(\"Primeros precios tienda 1:\", precios_tienda1[:5])\n",
        "print(\"Primeros precios tienda 2:\", precios_tienda2[:5])\n",
        "print(\"Primeros precios tienda 3:\", precios_tienda3[:5])\n",
        "print(\"Primeros precios tienda 4:\", precios_tienda4[:5])"
      ],
      "metadata": {
        "colab": {
          "base_uri": "https://localhost:8080/"
        },
        "id": "Ptw18bIswDhx",
        "outputId": "b95b57e3-6987-40cd-d1fa-c5d9d5ec08ce"
      },
      "execution_count": 85,
      "outputs": [
        {
          "output_type": "stream",
          "name": "stdout",
          "text": [
            "Primeros precios tienda 1: [164300.0, 192300.0, 209600.0, 757500.0, 335200.0]\n",
            "Primeros precios tienda 2: [283600.0, 76800.0, 443300.0, 906200.0, 397800.0]\n",
            "Primeros precios tienda 3: [1285100.0, 290100.0, 303500.0, 58800.0, 521100.0]\n",
            "Primeros precios tienda 4: [1084800.0, 473800.0, 23700.0, 57700.0, 138900.0]\n"
          ]
        }
      ]
    },
    {
      "cell_type": "markdown",
      "source": [
        "#1. Análisis de facturación\n",
        "\n"
      ],
      "metadata": {
        "id": "X62IW3KFUIYm"
      }
    },
    {
      "cell_type": "code",
      "source": [
        "# Función para calcular el total facturado\n",
        "def calcular_facturacion_total(lista_precios):\n",
        "    total = 0\n",
        "    for precio in lista_precios:\n",
        "        total += precio\n",
        "    return total\n",
        "\n",
        "# Calculamos el total por tienda\n",
        "total1 = calcular_facturacion_total(precios_tienda1)\n",
        "total2 = calcular_facturacion_total(precios_tienda2)\n",
        "total3 = calcular_facturacion_total(precios_tienda3)\n",
        "total4 = calcular_facturacion_total(precios_tienda4)\n",
        "\n",
        "# Mostramos resultados con formato de moneda\n",
        "print(\"Facturación total Tienda 1: ${:,.2f}\".format(total1))\n",
        "print(\"Facturación total Tienda 2: ${:,.2f}\".format(total2))\n",
        "print(\"Facturación total Tienda 3: ${:,.2f}\".format(total3))\n",
        "print(\"Facturación total Tienda 4: ${:,.2f}\".format(total4))\n"
      ],
      "metadata": {
        "colab": {
          "base_uri": "https://localhost:8080/"
        },
        "id": "cmKVkMw_rUZF",
        "outputId": "82ce6e4a-abca-4d33-c56d-54f850a28aba"
      },
      "execution_count": 86,
      "outputs": [
        {
          "output_type": "stream",
          "name": "stdout",
          "text": [
            "Facturación total Tienda 1: $1,150,880,400.00\n",
            "Facturación total Tienda 2: $1,116,343,500.00\n",
            "Facturación total Tienda 3: $1,098,019,600.00\n",
            "Facturación total Tienda 4: $1,038,375,700.00\n"
          ]
        }
      ]
    },
    {
      "cell_type": "code",
      "source": [
        "# creamos un diccionario con los totales por tienda\n",
        "totales = {\n",
        "    \"Tienda 1\": total1,\n",
        "    \"Tienda 2\": total2,\n",
        "    \"Tienda 3\": total3,\n",
        "    \"Tienda 4\": total4\n",
        "}\n",
        "\n",
        "# Ordenamos de mayor a menor facturación\n",
        "ranking_facturacion = sorted(totales.items(), key=lambda x: x[1], reverse=True)\n",
        "\n",
        "# Mostramos el ranking con formato de moneda\n",
        "print(\"\\n💵 Ranking de facturación total por tienda:\")\n",
        "for i, (tienda, monto) in enumerate(ranking_facturacion, start=1):\n",
        "    print(f\"{i}. {tienda}: ${monto:,.2f}\")"
      ],
      "metadata": {
        "id": "LfhHz81zI4r0",
        "colab": {
          "base_uri": "https://localhost:8080/"
        },
        "outputId": "1d2018ff-4869-44b3-8b69-1b7bdae42808"
      },
      "execution_count": 87,
      "outputs": [
        {
          "output_type": "stream",
          "name": "stdout",
          "text": [
            "\n",
            "💵 Ranking de facturación total por tienda:\n",
            "1. Tienda 1: $1,150,880,400.00\n",
            "2. Tienda 2: $1,116,343,500.00\n",
            "3. Tienda 3: $1,098,019,600.00\n",
            "4. Tienda 4: $1,038,375,700.00\n"
          ]
        }
      ]
    },
    {
      "cell_type": "markdown",
      "source": [
        "# 2. Ventas por categoría"
      ],
      "metadata": {
        "id": "2V_vcAPzWZmR"
      }
    },
    {
      "cell_type": "code",
      "source": [
        "# generamos una función para extraer categorías\n",
        "def extraer_categorias(tienda):\n",
        "    categorias = []\n",
        "    for fila in tienda:\n",
        "        categorias.append(fila['Categoría del Producto'])\n",
        "    return categorias\n",
        "\n",
        "# Aplicamos dicha función a cada tienda\n",
        "categorias_tienda1 = extraer_categorias(datos_tienda1)\n",
        "categorias_tienda2 = extraer_categorias(datos_tienda2)\n",
        "categorias_tienda3 = extraer_categorias(datos_tienda3)\n",
        "categorias_tienda4 = extraer_categorias(datos_tienda4)\n",
        "\n",
        "# verificamos las 5 primeras categorias, para asegurarnos que el código funciona.\n",
        "print(\"Categorías tienda 1:\", categorias_tienda1[:5])\n",
        "print(\"Categorías tienda 2:\", categorias_tienda2[:5])\n",
        "print(\"Categorías tienda 3:\", categorias_tienda3[:5])\n",
        "print(\"Categorías tienda 4:\", categorias_tienda4[:5])"
      ],
      "metadata": {
        "id": "A34YupIuYhfF",
        "colab": {
          "base_uri": "https://localhost:8080/"
        },
        "outputId": "9b842b74-7adf-49d6-a973-e7b65468c8ca"
      },
      "execution_count": 88,
      "outputs": [
        {
          "output_type": "stream",
          "name": "stdout",
          "text": [
            "Categorías tienda 1: ['Electrónicos', 'Muebles', 'Juguetes', 'Electrodomésticos', 'Muebles']\n",
            "Categorías tienda 2: ['Muebles', 'Instrumentos musicales', 'Muebles', 'Muebles', 'Muebles']\n",
            "Categorías tienda 3: ['Electrodomésticos', 'Muebles', 'Instrumentos musicales', 'Deportes y diversión', 'Muebles']\n",
            "Categorías tienda 4: ['Electrodomésticos', 'Muebles', 'Deportes y diversión', 'Libros', 'Electrónicos']\n"
          ]
        }
      ]
    },
    {
      "cell_type": "code",
      "source": [
        "# creamos una función para contar ocurrencias por categoría\n",
        "def contar_categorias(lista_categorias):\n",
        "    conteo = {}\n",
        "    for categoria in lista_categorias:\n",
        "        if categoria in conteo:\n",
        "            conteo[categoria] += 1\n",
        "        else:\n",
        "            conteo[categoria] = 1\n",
        "    return conteo\n",
        "\n",
        "# aplicamos dicha función a cada tienda\n",
        "conteo1 = contar_categorias(categorias_tienda1)\n",
        "conteo2 = contar_categorias(categorias_tienda2)\n",
        "conteo3 = contar_categorias(categorias_tienda3)\n",
        "conteo4 = contar_categorias(categorias_tienda4)\n",
        "\n",
        "# mostramos los resultados\n",
        "print(\"Ventas por categoría - Tienda 1:\", conteo1)\n",
        "print(\"Ventas por categoría - Tienda 2:\", conteo2)\n",
        "print(\"Ventas por categoría - Tienda 3:\", conteo3)\n",
        "print(\"Ventas por categoría - Tienda 4:\", conteo4)"
      ],
      "metadata": {
        "id": "yZR6cOjXYSk1",
        "colab": {
          "base_uri": "https://localhost:8080/"
        },
        "outputId": "53d3e2c1-9e09-4045-d11a-2b36481515a5"
      },
      "execution_count": 89,
      "outputs": [
        {
          "output_type": "stream",
          "name": "stdout",
          "text": [
            "Ventas por categoría - Tienda 1: {'Electrónicos': 448, 'Muebles': 465, 'Juguetes': 324, 'Electrodomésticos': 312, 'Artículos para el hogar': 171, 'Deportes y diversión': 284, 'Libros': 173, 'Instrumentos musicales': 182}\n",
            "Ventas por categoría - Tienda 2: {'Muebles': 442, 'Instrumentos musicales': 224, 'Deportes y diversión': 275, 'Electrónicos': 422, 'Artículos para el hogar': 181, 'Juguetes': 313, 'Electrodomésticos': 305, 'Libros': 197}\n",
            "Ventas por categoría - Tienda 3: {'Electrodomésticos': 278, 'Muebles': 499, 'Instrumentos musicales': 177, 'Deportes y diversión': 277, 'Electrónicos': 451, 'Juguetes': 315, 'Artículos para el hogar': 177, 'Libros': 185}\n",
            "Ventas por categoría - Tienda 4: {'Electrodomésticos': 254, 'Muebles': 480, 'Deportes y diversión': 277, 'Libros': 187, 'Electrónicos': 451, 'Instrumentos musicales': 170, 'Juguetes': 338, 'Artículos para el hogar': 201}\n"
          ]
        }
      ]
    },
    {
      "cell_type": "code",
      "source": [
        "# función para encontrar la(s) categoría(s) más vendida(s)\n",
        "def categoria_mas_vendida(conteo):\n",
        "    maximo = max(conteo.values())\n",
        "    populares = [categoria for categoria, cantidad in conteo.items() if cantidad == maximo]\n",
        "    return populares, maximo\n",
        "\n",
        "# Aplicamos dicha función a cada tienda\n",
        "populares1, max1 = categoria_mas_vendida(conteo1)\n",
        "populares2, max2 = categoria_mas_vendida(conteo2)\n",
        "populares3, max3 = categoria_mas_vendida(conteo3)\n",
        "populares4, max4 = categoria_mas_vendida(conteo4)\n",
        "\n",
        "# mostramos los resultados\n",
        "print(f\"Tienda 1 - Categoría(s) más vendida(s): {populares1} con {max1} ventas\")\n",
        "print(f\"Tienda 2 - Categoría(s) más vendida(s): {populares2} con {max2} ventas\")\n",
        "print(f\"Tienda 3 - Categoría(s) más vendida(s): {populares3} con {max3} ventas\")\n",
        "print(f\"Tienda 4 - Categoría(s) más vendida(s): {populares4} con {max4} ventas\")"
      ],
      "metadata": {
        "colab": {
          "base_uri": "https://localhost:8080/"
        },
        "id": "PtFVYK2z06zO",
        "outputId": "610104c2-65a8-4b80-923b-1c2cbdf496b9"
      },
      "execution_count": 90,
      "outputs": [
        {
          "output_type": "stream",
          "name": "stdout",
          "text": [
            "Tienda 1 - Categoría(s) más vendida(s): ['Muebles'] con 465 ventas\n",
            "Tienda 2 - Categoría(s) más vendida(s): ['Muebles'] con 442 ventas\n",
            "Tienda 3 - Categoría(s) más vendida(s): ['Muebles'] con 499 ventas\n",
            "Tienda 4 - Categoría(s) más vendida(s): ['Muebles'] con 480 ventas\n"
          ]
        }
      ]
    },
    {
      "cell_type": "markdown",
      "source": [
        "# 3. Calificación promedio de la tienda\n"
      ],
      "metadata": {
        "id": "Rq6tU_xSY3jk"
      }
    },
    {
      "cell_type": "code",
      "source": [
        "# definimos una función que extraiga las calificaciones de una tienda\n",
        "def extraer_calificaciones(tienda):\n",
        "    calificaciones = []\n",
        "    for fila in tienda:\n",
        "        calificaciones.append(fila['Calificación'])\n",
        "    return calificaciones\n",
        "\n",
        "# aplicamos dicha función a cada tienda\n",
        "calificaciones_tienda1 = extraer_calificaciones(datos_tienda1)\n",
        "calificaciones_tienda2 = extraer_calificaciones(datos_tienda2)\n",
        "calificaciones_tienda3 = extraer_calificaciones(datos_tienda3)\n",
        "calificaciones_tienda4 = extraer_calificaciones(datos_tienda4)\n",
        "\n",
        "# verificamos que el código funcione mostrando las primeras 5 calificaciones de cada tienda\n",
        "print(\"Calificaciones Tienda 1:\", calificaciones_tienda1[:5])\n",
        "print(\"Calificaciones Tienda 2:\", calificaciones_tienda2[:5])\n",
        "print(\"Calificaciones Tienda 3:\", calificaciones_tienda3[:5])\n",
        "print(\"Calificaciones Tienda 4:\", calificaciones_tienda4[:5])"
      ],
      "metadata": {
        "id": "bh3jjjJwY5MU",
        "colab": {
          "base_uri": "https://localhost:8080/"
        },
        "outputId": "62b70ef4-f24e-4cc9-95e3-bdfb12fb16c8"
      },
      "execution_count": 91,
      "outputs": [
        {
          "output_type": "stream",
          "name": "stdout",
          "text": [
            "Calificaciones Tienda 1: [4, 1, 1, 4, 5]\n",
            "Calificaciones Tienda 2: [1, 3, 5, 5, 4]\n",
            "Calificaciones Tienda 3: [4, 3, 5, 4, 1]\n",
            "Calificaciones Tienda 4: [4, 5, 5, 3, 4]\n"
          ]
        }
      ]
    },
    {
      "cell_type": "code",
      "source": [
        "# creamos una función para calcular el promedio de calificaciones\n",
        "def calcular_promedio(lista):\n",
        "    if len(lista) == 0:\n",
        "        return 0\n",
        "    return sum(lista) / len(lista)\n",
        "\n",
        "# Aplicamos dicha función a cada tienda\n",
        "promedio_calificacion1 = calcular_promedio(calificaciones_tienda1)\n",
        "promedio_calificacion2 = calcular_promedio(calificaciones_tienda2)\n",
        "promedio_calificacion3 = calcular_promedio(calificaciones_tienda3)\n",
        "promedio_calificacion4 = calcular_promedio(calificaciones_tienda4)\n",
        "\n",
        "# mostramoslos resultados con 1 decimal\n",
        "print(\"Calificación promedio Tienda 1: {:.2f}\".format(promedio_calificacion1))\n",
        "print(\"Calificación promedio Tienda 2: {:.2f}\".format(promedio_calificacion2))\n",
        "print(\"Calificación promedio Tienda 3: {:.2f}\".format(promedio_calificacion3))\n",
        "print(\"Calificación promedio Tienda 4: {:.2f}\".format(promedio_calificacion4))"
      ],
      "metadata": {
        "id": "I0KkjPoTY88F",
        "colab": {
          "base_uri": "https://localhost:8080/"
        },
        "outputId": "5a7e731b-bf51-409f-d315-a8c94b37f945"
      },
      "execution_count": 92,
      "outputs": [
        {
          "output_type": "stream",
          "name": "stdout",
          "text": [
            "Calificación promedio Tienda 1: 3.98\n",
            "Calificación promedio Tienda 2: 4.04\n",
            "Calificación promedio Tienda 3: 4.05\n",
            "Calificación promedio Tienda 4: 4.00\n"
          ]
        }
      ]
    },
    {
      "cell_type": "code",
      "source": [
        "# crearemos un ranking de calificaciones\n",
        "# 1ero hacemos un diccionario con los promedios de calificaciones por tienda\n",
        "ranking_calificaciones = {\n",
        "    \"Tienda 1\": promedio_calificacion1,\n",
        "    \"Tienda 2\": promedio_calificacion2,\n",
        "    \"Tienda 3\": promedio_calificacion3,\n",
        "    \"Tienda 4\": promedio_calificacion4\n",
        "}\n",
        "\n",
        "# Ordenamos dicho ranking de mayor a menor\n",
        "ranking_ordenado = sorted(ranking_calificaciones.items(), key=lambda x: x[1], reverse=True)\n",
        "\n",
        "# mostramos el ranking\n",
        "print(\"\\n🏆 Ranking de calificación promedio por tienda:\")\n",
        "for i, (tienda, promedio) in enumerate(ranking_ordenado, start=1):\n",
        "    print(f\"{i}. {tienda}: {promedio:.2f}\")"
      ],
      "metadata": {
        "colab": {
          "base_uri": "https://localhost:8080/"
        },
        "id": "Kv2pPLKOWKSs",
        "outputId": "87bc268f-f7b0-472e-a920-70ec2fc32940"
      },
      "execution_count": 93,
      "outputs": [
        {
          "output_type": "stream",
          "name": "stdout",
          "text": [
            "\n",
            "🏆 Ranking de calificación promedio por tienda:\n",
            "1. Tienda 3: 4.05\n",
            "2. Tienda 2: 4.04\n",
            "3. Tienda 4: 4.00\n",
            "4. Tienda 1: 3.98\n"
          ]
        }
      ]
    },
    {
      "cell_type": "markdown",
      "source": [
        "# 4. Productos más y menos vendidos"
      ],
      "metadata": {
        "id": "DmNp1KPBZCm-"
      }
    },
    {
      "cell_type": "code",
      "source": [
        "# Creamos una funciónpara extraer productos vendidos de una tienda\n",
        "def extraer_productos(tienda):\n",
        "    productos = []\n",
        "    for fila in tienda:\n",
        "        productos.append(fila['Producto'])\n",
        "    return productos\n",
        "\n",
        "# Aplicamos dicha función a cada una de las tiendas\n",
        "productos_tienda1 = extraer_productos(datos_tienda1)\n",
        "productos_tienda2 = extraer_productos(datos_tienda2)\n",
        "productos_tienda3 = extraer_productos(datos_tienda3)\n",
        "productos_tienda4 = extraer_productos(datos_tienda4)\n",
        "\n",
        "# verificamos algunos de los productos para saber que el código está correcto\n",
        "print(\"Productos Tienda 1:\", productos_tienda1[:5])\n",
        "print(\"Productos Tienda 2:\", productos_tienda2[:5])\n",
        "print(\"Productos Tienda 3:\", productos_tienda3[:5])\n",
        "print(\"Productos Tienda 4:\", productos_tienda4[:5])"
      ],
      "metadata": {
        "id": "qoyjqijQZHfF",
        "colab": {
          "base_uri": "https://localhost:8080/"
        },
        "outputId": "d3bf309a-8f1c-471f-80db-950e1caf76b7"
      },
      "execution_count": 94,
      "outputs": [
        {
          "output_type": "stream",
          "name": "stdout",
          "text": [
            "Productos Tienda 1: ['Asistente virtual', 'Mesa de comedor', 'Juego de mesa', 'Microondas', 'Silla de oficina']\n",
            "Productos Tienda 2: ['Silla de oficina', 'Pandereta', 'Cama king', 'Cama king', 'Silla de oficina']\n",
            "Productos Tienda 3: ['Secadora de ropa', 'Mesa de noche', 'Guitarra acústica', 'Balón de voleibol', 'Armario']\n",
            "Productos Tienda 4: ['Lavavajillas', 'Cama box', 'Balón de baloncesto', 'Modelado predictivo', 'Auriculares']\n"
          ]
        }
      ]
    },
    {
      "cell_type": "code",
      "source": [
        "# ahora generamos una función que permita contar las ventas por producto\n",
        "def contar_productos(lista_productos):\n",
        "    conteo = {}\n",
        "    for producto in lista_productos:\n",
        "        if producto in conteo:\n",
        "            conteo[producto] += 1\n",
        "        else:\n",
        "            conteo[producto] = 1\n",
        "    return conteo\n",
        "\n",
        "# aplicamos la función a cada tienda\n",
        "conteo_productos1 = contar_productos(productos_tienda1)\n",
        "conteo_productos2 = contar_productos(productos_tienda2)\n",
        "conteo_productos3 = contar_productos(productos_tienda3)\n",
        "conteo_productos4 = contar_productos(productos_tienda4)\n",
        "\n",
        "# mostramos un ejemplo parcial de conteo para verificar que el código está correcto\n",
        "print(\"Ventas por producto - Tienda 1 (ejemplo):\")\n",
        "for producto, cantidad in list(conteo_productos1.items())[:5]:\n",
        "    print(f\"{producto}: {cantidad} ventas\")\n"
      ],
      "metadata": {
        "id": "0Sw3sd4IZIGW",
        "colab": {
          "base_uri": "https://localhost:8080/"
        },
        "outputId": "6235b02a-3e5d-4ffc-9900-f588823dbe83"
      },
      "execution_count": 95,
      "outputs": [
        {
          "output_type": "stream",
          "name": "stdout",
          "text": [
            "Ventas por producto - Tienda 1 (ejemplo):\n",
            "Asistente virtual: 40 ventas\n",
            "Mesa de comedor: 40 ventas\n",
            "Juego de mesa: 43 ventas\n",
            "Microondas: 60 ventas\n",
            "Silla de oficina: 46 ventas\n"
          ]
        }
      ]
    },
    {
      "cell_type": "code",
      "source": [
        "# Para identificar los productos más y menos vendidos por tienda crearemos una función para obtenerlos\n",
        "def productos_extremos(conteo):\n",
        "    max_ventas = max(conteo.values())\n",
        "    min_ventas = min(conteo.values())\n",
        "\n",
        "    mas_vendidos = [producto for producto, cantidad in conteo.items() if cantidad == max_ventas]\n",
        "    menos_vendidos = [producto for producto, cantidad in conteo.items() if cantidad == min_ventas]\n",
        "\n",
        "    return mas_vendidos, max_ventas, menos_vendidos, min_ventas\n",
        "\n",
        "# aplicamos dicha función a cada tienda\n",
        "mas1, max1, menos1, min1 = productos_extremos(conteo_productos1)\n",
        "mas2, max2, menos2, min2 = productos_extremos(conteo_productos2)\n",
        "mas3, max3, menos3, min3 = productos_extremos(conteo_productos3)\n",
        "mas4, max4, menos4, min4 = productos_extremos(conteo_productos4)\n",
        "\n",
        "# mostramos los resultados\n",
        "print(f\"\\nTienda 1 - Más vendidos: {mas1} ({max1} ventas) | Menos vendidos: {menos1} ({min1} venta/s)\")\n",
        "print(f\"Tienda 2 - Más vendidos: {mas2} ({max2} ventas) | Menos vendidos: {menos2} ({min2} venta/s)\")\n",
        "print(f\"Tienda 3 - Más vendidos: {mas3} ({max3} ventas) | Menos vendidos: {menos3} ({min3} venta/s)\")\n",
        "print(f\"Tienda 4 - Más vendidos: {mas4} ({max4} ventas) | Menos vendidos: {menos4} ({min4} venta/s)\")"
      ],
      "metadata": {
        "colab": {
          "base_uri": "https://localhost:8080/"
        },
        "id": "BC15HpgxZnMU",
        "outputId": "8b6df334-6f8c-40cc-8e87-b01fb64e2d72"
      },
      "execution_count": 96,
      "outputs": [
        {
          "output_type": "stream",
          "name": "stdout",
          "text": [
            "\n",
            "Tienda 1 - Más vendidos: ['Microondas', 'TV LED UHD 4K', 'Armario'] (60 ventas) | Menos vendidos: ['Auriculares con micrófono', 'Celular ABXY'] (33 venta/s)\n",
            "Tienda 2 - Más vendidos: ['Iniciando en programación'] (65 ventas) | Menos vendidos: ['Juego de mesa'] (32 venta/s)\n",
            "Tienda 3 - Más vendidos: ['Kit de bancas'] (57 ventas) | Menos vendidos: ['Bloques de construcción'] (35 venta/s)\n",
            "Tienda 4 - Más vendidos: ['Cama box'] (62 ventas) | Menos vendidos: ['Guitarra eléctrica'] (33 venta/s)\n"
          ]
        }
      ]
    },
    {
      "cell_type": "markdown",
      "source": [
        "# 5. Envío promedio por tienda"
      ],
      "metadata": {
        "id": "Fl0cGi3bZKqU"
      }
    },
    {
      "cell_type": "code",
      "source": [
        "# generamos una función para extraer los costos de envío de una tienda\n",
        "def extraer_costos_envio(tienda):\n",
        "    costos = []\n",
        "    for fila in tienda:\n",
        "        costos.append(fila['Costo de envío'])\n",
        "    return costos\n",
        "\n",
        "# aplicamos la función a cada tienda\n",
        "envios_tienda1 = extraer_costos_envio(datos_tienda1)\n",
        "envios_tienda2 = extraer_costos_envio(datos_tienda2)\n",
        "envios_tienda3 = extraer_costos_envio(datos_tienda3)\n",
        "envios_tienda4 = extraer_costos_envio(datos_tienda4)\n",
        "\n",
        "# verificamos los primeros valores para cerciorarnos que el código esta correcto\n",
        "print(\"Costos de envío - Tienda 1:\", envios_tienda1[:5])\n",
        "print(\"Costos de envío - Tienda 2:\", envios_tienda2[:5])\n",
        "print(\"Costos de envío - Tienda 3:\", envios_tienda3[:5])\n",
        "print(\"Costos de envío - Tienda 4:\", envios_tienda4[:5])\n"
      ],
      "metadata": {
        "id": "S2JeaCykZNy9",
        "colab": {
          "base_uri": "https://localhost:8080/"
        },
        "outputId": "5e0bef12-e97c-4355-9b20-4add50bd54ea"
      },
      "execution_count": 97,
      "outputs": [
        {
          "output_type": "stream",
          "name": "stdout",
          "text": [
            "Costos de envío - Tienda 1: [6900.0, 8400.0, 15900.0, 41000.0, 20200.0]\n",
            "Costos de envío - Tienda 2: [15300.0, 2300.0, 23800.0, 46400.0, 19400.0]\n",
            "Costos de envío - Tienda 3: [66600.0, 13600.0, 17400.0, 3300.0, 25900.0]\n",
            "Costos de envío - Tienda 4: [56000.0, 25400.0, 0.0, 1300.0, 5600.0]\n"
          ]
        }
      ]
    },
    {
      "cell_type": "code",
      "source": [
        "# definidmos una función para calcular el costo promedio de envío\n",
        "def calcular_promedio(lista):\n",
        "    if len(lista) == 0:\n",
        "        return 0\n",
        "    return sum(lista) / len(lista)\n",
        "\n",
        "# calculamos el promedio de envío para cada tienda\n",
        "prom_envio1 = calcular_promedio(envios_tienda1)\n",
        "prom_envio2 = calcular_promedio(envios_tienda2)\n",
        "prom_envio3 = calcular_promedio(envios_tienda3)\n",
        "prom_envio4 = calcular_promedio(envios_tienda4)\n",
        "\n",
        "#mostramos los resultados de cada tienda\n",
        "print(\"Costo de envío promedio - Tienda 1: ${:,.2f}\".format(prom_envio1))\n",
        "print(\"Costo de envío promedio - Tienda 2: ${:,.2f}\".format(prom_envio2))\n",
        "print(\"Costo de envío promedio - Tienda 3: ${:,.2f}\".format(prom_envio3))\n",
        "print(\"Costo de envío promedio - Tienda 4: ${:,.2f}\".format(prom_envio4))"
      ],
      "metadata": {
        "id": "0tSdCie9ZQlt",
        "colab": {
          "base_uri": "https://localhost:8080/"
        },
        "outputId": "d918936c-cf4f-4108-ece6-1796797d9f5c"
      },
      "execution_count": 98,
      "outputs": [
        {
          "output_type": "stream",
          "name": "stdout",
          "text": [
            "Costo de envío promedio - Tienda 1: $26,018.61\n",
            "Costo de envío promedio - Tienda 2: $25,216.24\n",
            "Costo de envío promedio - Tienda 3: $24,805.68\n",
            "Costo de envío promedio - Tienda 4: $23,459.46\n"
          ]
        }
      ]
    },
    {
      "cell_type": "code",
      "source": [
        "# haremos un ranking para ello debemos definir un diccionario con los promedios de envío por tienda\n",
        "ranking_envio = {\n",
        "    \"Tienda 1\": prom_envio1,\n",
        "    \"Tienda 2\": prom_envio2,\n",
        "    \"Tienda 3\": prom_envio3,\n",
        "    \"Tienda 4\": prom_envio4\n",
        "}\n",
        "\n",
        "# ordenamos de menor a mayor\n",
        "ranking_envio_ordenado = sorted(ranking_envio.items(), key=lambda x: x[1])\n",
        "\n",
        "# Mostramos el ranking con formato\n",
        "print(\"\\n📦 Ranking de costo de envío promedio por tienda (de menor a mayor):\")\n",
        "for i, (tienda, promedio) in enumerate(ranking_envio_ordenado, start=1):\n",
        "    print(f\"{i}. {tienda}: ${promedio:,.2f}\")"
      ],
      "metadata": {
        "colab": {
          "base_uri": "https://localhost:8080/"
        },
        "id": "Tk3YW2PUboC2",
        "outputId": "def05c42-fcd7-496d-d652-6feb6416f48e"
      },
      "execution_count": 99,
      "outputs": [
        {
          "output_type": "stream",
          "name": "stdout",
          "text": [
            "\n",
            "📦 Ranking de costo de envío promedio por tienda (de menor a mayor):\n",
            "1. Tienda 4: $23,459.46\n",
            "2. Tienda 3: $24,805.68\n",
            "3. Tienda 2: $25,216.24\n",
            "4. Tienda 1: $26,018.61\n"
          ]
        }
      ]
    },
    {
      "cell_type": "markdown",
      "source": [
        "# 6. Visualización"
      ],
      "metadata": {
        "id": "aZ4-cVFLiWre"
      }
    },
    {
      "cell_type": "markdown",
      "source": [
        "### Gráfico 1: Ingresos Totales Por tienda"
      ],
      "metadata": {
        "id": "uUvNBPfZkFJf"
      }
    },
    {
      "cell_type": "code",
      "source": [
        "# Pasos Preliminares\n",
        "# utilizaremos el diccionario denominado \"totales\" obtenido del Punto 1.\n",
        "totales = {\n",
        "    \"Tienda 1\": total1,\n",
        "    \"Tienda 2\": total2,\n",
        "    \"Tienda 3\": total3,\n",
        "    \"Tienda 4\": total4\n",
        "}\n"
      ],
      "metadata": {
        "id": "KZZacKAkkEHK"
      },
      "execution_count": 100,
      "outputs": []
    },
    {
      "cell_type": "code",
      "source": [
        "# importamos la librería matplotlib\n",
        "import matplotlib.pyplot as plt\n",
        "\n",
        "# Convertimos el diccionario totales en dos listas\n",
        "tiendas = list(totales.keys())\n",
        "ingresos = list(totales.values())\n",
        "\n",
        "# Verificamos que todo esté correcto antes de graficar\n",
        "print(\"Tiendas:\", tiendas)\n",
        "print(\"Ingresos:\", ingresos)\n",
        "\n",
        "# imprimimos los ingresos con formato moneda solo como vista previa\n",
        "for tienda, ingreso in zip(tiendas, ingresos):\n",
        "    print(f\"{tienda}: ${ingreso:,.2f}\")"
      ],
      "metadata": {
        "colab": {
          "base_uri": "https://localhost:8080/"
        },
        "id": "uYTR4Bn-iV0g",
        "outputId": "7f5e1a4a-d8b0-4373-c405-f8e1d6a2a058"
      },
      "execution_count": 101,
      "outputs": [
        {
          "output_type": "stream",
          "name": "stdout",
          "text": [
            "Tiendas: ['Tienda 1', 'Tienda 2', 'Tienda 3', 'Tienda 4']\n",
            "Ingresos: [1150880400.0, 1116343500.0, 1098019600.0, 1038375700.0]\n",
            "Tienda 1: $1,150,880,400.00\n",
            "Tienda 2: $1,116,343,500.00\n",
            "Tienda 3: $1,098,019,600.00\n",
            "Tienda 4: $1,038,375,700.00\n"
          ]
        }
      ]
    },
    {
      "cell_type": "code",
      "source": [
        "# Tamaño del gráfico\n",
        "plt.figure(figsize=(10, 6))\n",
        "\n",
        "# Crear gráfico de barras\n",
        "barras = plt.bar(tiendas, ingresos)\n",
        "\n",
        "# Título y etiquetas\n",
        "plt.title(\"💰 Ingresos Totales por Tienda\", fontsize=16, fontweight='bold')\n",
        "plt.xlabel(\"Tiendas\", fontsize=12)\n",
        "plt.ylabel(\"Ingresos (MM$)\", fontsize=12)\n",
        "\n",
        "# Agregar etiquetas de valores sobre cada barra (con formato moneda)\n",
        "for barra, ingreso in zip(barras, ingresos):\n",
        "    altura = barra.get_height()\n",
        "    plt.text(barra.get_x() + barra.get_width()/2, altura + (max(ingresos)*0.01), f\"${ingreso:,.0f}\",\n",
        "             ha='center', va='bottom', fontsize=10, fontweight='bold')\n",
        "\n",
        "# Quitar bordes y hacer que se vea más limpio\n",
        "plt.grid(axis='y', linestyle='--', alpha=0.6)\n",
        "plt.box(False)\n",
        "\n",
        "# Mostrar el gráfico\n",
        "plt.tight_layout()\n",
        "plt.show()\n"
      ],
      "metadata": {
        "colab": {
          "base_uri": "https://localhost:8080/",
          "height": 676
        },
        "id": "TEkHojpblZF4",
        "outputId": "1719a152-c132-4b7e-a19a-14da1be90ae3"
      },
      "execution_count": 102,
      "outputs": [
        {
          "output_type": "stream",
          "name": "stderr",
          "text": [
            "<ipython-input-102-2ef36b032232>:23: UserWarning: Glyph 128176 (\\N{MONEY BAG}) missing from font(s) DejaVu Sans.\n",
            "  plt.tight_layout()\n",
            "/usr/local/lib/python3.11/dist-packages/IPython/core/pylabtools.py:151: UserWarning: Glyph 128176 (\\N{MONEY BAG}) missing from font(s) DejaVu Sans.\n",
            "  fig.canvas.print_figure(bytes_io, **kw)\n"
          ]
        },
        {
          "output_type": "display_data",
          "data": {
            "text/plain": [
              "<Figure size 1000x600 with 1 Axes>"
            ],
            "image/png": "[encoded data removed]"
          },
          "metadata": {}
        }
      ]
    },
    {
      "cell_type": "markdown",
      "source": [
        "### Gráfico 2: Gráfico de barras - Ventas de \"muebles\" por tienda"
      ],
      "metadata": {
        "id": "BoUWhxQlmOfc"
      }
    },
    {
      "cell_type": "code",
      "source": [
        "# Extraer la cantidad de ventas de \"Muebles\" en cada tienda\n",
        "ventas_muebles = {\n",
        "    \"Tienda 1\": conteo1.get(\"Muebles\", 0),\n",
        "    \"Tienda 2\": conteo2.get(\"Muebles\", 0),\n",
        "    \"Tienda 3\": conteo3.get(\"Muebles\", 0),\n",
        "    \"Tienda 4\": conteo4.get(\"Muebles\", 0)\n",
        "}\n",
        "\n",
        "# Convertimos a listas para graficar\n",
        "tiendas = list(ventas_muebles.keys())\n",
        "muebles_vendidos = list(ventas_muebles.values())\n",
        "\n",
        "# Verificamos los datos\n",
        "print(\"Tiendas:\", tiendas)\n",
        "print(\"Ventas de muebles:\", muebles_vendidos)\n"
      ],
      "metadata": {
        "colab": {
          "base_uri": "https://localhost:8080/"
        },
        "id": "KXB64iE4ngRh",
        "outputId": "bb4c2144-0924-47cc-aafd-8e7ddc5d37d7"
      },
      "execution_count": 103,
      "outputs": [
        {
          "output_type": "stream",
          "name": "stdout",
          "text": [
            "Tiendas: ['Tienda 1', 'Tienda 2', 'Tienda 3', 'Tienda 4']\n",
            "Ventas de muebles: [465, 442, 499, 480]\n"
          ]
        }
      ]
    },
    {
      "cell_type": "code",
      "source": [
        "# Tamaño del gráfico\n",
        "plt.figure(figsize=(10, 6))\n",
        "\n",
        "# Colores personalizados (opcional)\n",
        "colores = ['#795548', '#A1887F', '#D7CCC8', '#5D4037']\n",
        "\n",
        "# Crear gráfico de barras\n",
        "barras = plt.bar(tiendas, muebles_vendidos, color=colores)\n",
        "\n",
        "# Títulos y etiquetas\n",
        "plt.title(\"🪑 Ventas de Muebles por Tienda\", fontsize=16, fontweight='bold')\n",
        "plt.xlabel(\"Tiendas\", fontsize=12)\n",
        "plt.ylabel(\"Cantidad de ventas\", fontsize=12)\n",
        "\n",
        "# Etiquetas de cantidad sobre las barras\n",
        "for barra, cantidad in zip(barras, muebles_vendidos):\n",
        "    altura = barra.get_height()\n",
        "    plt.text(barra.get_x() + barra.get_width()/2, altura + 0.5, f\"{cantidad}\",\n",
        "             ha='center', va='bottom', fontsize=10, fontweight='bold')\n",
        "\n",
        "# Estética\n",
        "plt.grid(axis='y', linestyle='--', alpha=0.6)\n",
        "plt.box(False)\n",
        "\n",
        "# Mostrar gráfico\n",
        "plt.tight_layout()\n",
        "plt.show()\n"
      ],
      "metadata": {
        "colab": {
          "base_uri": "https://localhost:8080/",
          "height": 676
        },
        "id": "d-uukcWqnqAp",
        "outputId": "d1da08af-1c44-465d-a0f9-c6378d0e9cba"
      },
      "execution_count": 104,
      "outputs": [
        {
          "output_type": "stream",
          "name": "stderr",
          "text": [
            "<ipython-input-104-62de86e585c0>:26: UserWarning: Glyph 129681 (\\N{CHAIR}) missing from font(s) DejaVu Sans.\n",
            "  plt.tight_layout()\n",
            "/usr/local/lib/python3.11/dist-packages/IPython/core/pylabtools.py:151: UserWarning: Glyph 129681 (\\N{CHAIR}) missing from font(s) DejaVu Sans.\n",
            "  fig.canvas.print_figure(bytes_io, **kw)\n"
          ]
        },
        {
          "output_type": "display_data",
          "data": {
            "text/plain": [
              "<Figure size 1000x600 with 1 Axes>"
            ],
            "image/png": "[encoded data removed]"
          },
          "metadata": {}
        }
      ]
    },
    {
      "cell_type": "markdown",
      "source": [
        "### Gráfico 3: Clasificación promedio por tienda"
      ],
      "metadata": {
        "id": "TUxksZ2FoOW6"
      }
    },
    {
      "cell_type": "code",
      "source": [
        "#diccionario con los promedios de calificaciones por tienda\n",
        "ranking_calificaciones = {\n",
        "    \"Tienda 1\": promedio_calificacion1,\n",
        "    \"Tienda 2\": promedio_calificacion2,\n",
        "    \"Tienda 3\": promedio_calificacion3,\n",
        "    \"Tienda 4\": promedio_calificacion4\n",
        "}\n",
        "\n",
        "# Convertimos el diccionario en listas\n",
        "tiendas = list(ranking_calificaciones.keys())\n",
        "promedios = list(ranking_calificaciones.values())\n",
        "\n",
        "# Verificamos los datos\n",
        "print(\"Tiendas:\", tiendas)\n",
        "print(\"Calificación promedio:\", promedios)\n"
      ],
      "metadata": {
        "colab": {
          "base_uri": "https://localhost:8080/"
        },
        "id": "WQxRr7eEo3Sk",
        "outputId": "429f0f47-0fb9-48f2-d5b2-8ea1857fc967"
      },
      "execution_count": 105,
      "outputs": [
        {
          "output_type": "stream",
          "name": "stdout",
          "text": [
            "Tiendas: ['Tienda 1', 'Tienda 2', 'Tienda 3', 'Tienda 4']\n",
            "Calificación promedio: [3.976685036032217, 4.037303942348453, 4.048325561678677, 3.9957591178965224]\n"
          ]
        }
      ]
    },
    {
      "cell_type": "code",
      "source": [
        "# Crear gráfico de líneas\n",
        "plt.figure(figsize=(10, 6))\n",
        "\n",
        "# Dibujar línea con marcadores\n",
        "plt.plot(tiendas, promedios, marker='o', linestyle='-', color='#4CAF50', linewidth=2, markersize=8)\n",
        "\n",
        "# Título y etiquetas\n",
        "plt.title(\"⭐ Calificación Promedio por Tienda\", fontsize=16, fontweight='bold')\n",
        "plt.xlabel(\"Tiendas\", fontsize=12)\n",
        "plt.ylabel(\"Calificación promedio\", fontsize=12)\n",
        "plt.ylim(0, 5)  # Escala típica para calificaciones\n",
        "\n",
        "# Agregar texto sobre cada punto\n",
        "for i, valor in enumerate(promedios):\n",
        "    plt.text(i, valor + 0.05, f\"{valor:.2f}\", ha='center', fontsize=10, fontweight='bold')\n",
        "\n",
        "# Estética\n",
        "plt.grid(axis='y', linestyle='--', alpha=0.5)\n",
        "plt.box(False)\n",
        "\n",
        "# Mostrar gráfico\n",
        "plt.tight_layout()\n",
        "plt.show()\n"
      ],
      "metadata": {
        "colab": {
          "base_uri": "https://localhost:8080/",
          "height": 676
        },
        "id": "Zw6PH58YqucX",
        "outputId": "2692962a-6f77-4ddc-940a-61ec03a33741"
      },
      "execution_count": 106,
      "outputs": [
        {
          "output_type": "stream",
          "name": "stderr",
          "text": [
            "<ipython-input-106-01230beae7b5>:22: UserWarning: Glyph 11088 (\\N{WHITE MEDIUM STAR}) missing from font(s) DejaVu Sans.\n",
            "  plt.tight_layout()\n",
            "/usr/local/lib/python3.11/dist-packages/IPython/core/pylabtools.py:151: UserWarning: Glyph 11088 (\\N{WHITE MEDIUM STAR}) missing from font(s) DejaVu Sans.\n",
            "  fig.canvas.print_figure(bytes_io, **kw)\n"
          ]
        },
        {
          "output_type": "display_data",
          "data": {
            "text/plain": [
              "<Figure size 1000x600 with 1 Axes>"
            ],
            "image/png": "[encoded data removed]"
          },
          "metadata": {}
        }
      ]
    },
    {
      "cell_type": "markdown",
      "source": [
        "### Gráfico 4: Costo promedio de envío por tienda"
      ],
      "metadata": {
        "id": "W5CmExzyrZdp"
      }
    },
    {
      "cell_type": "code",
      "source": [
        "# Utilizamos el ranking_envío calculado en el punto 5\n",
        "ranking_envio = {\n",
        "    \"Tienda 1\": prom_envio1,\n",
        "    \"Tienda 2\": prom_envio2,\n",
        "    \"Tienda 3\": prom_envio3,\n",
        "    \"Tienda 4\": prom_envio4\n",
        "}\n",
        "\n",
        "# Convertimos el diccionario en listas para graficar\n",
        "tiendas = list(ranking_envio.keys())\n",
        "costos_envio = list(ranking_envio.values())\n",
        "\n",
        "# Verificamos que los datos estén correctos\n",
        "print(\"Tiendas:\", tiendas)\n",
        "print(\"Costos de envío promedio:\", costos_envio)\n",
        "\n"
      ],
      "metadata": {
        "colab": {
          "base_uri": "https://localhost:8080/"
        },
        "id": "cMSrdeSXrYnV",
        "outputId": "04bb014b-4254-45e7-a16e-8f66b4397f60"
      },
      "execution_count": 107,
      "outputs": [
        {
          "output_type": "stream",
          "name": "stdout",
          "text": [
            "Tiendas: ['Tienda 1', 'Tienda 2', 'Tienda 3', 'Tienda 4']\n",
            "Costos de envío promedio: [26018.60958033065, 25216.235693090293, 24805.680373039424, 23459.457167090754]\n"
          ]
        }
      ]
    },
    {
      "cell_type": "code",
      "source": [
        "# Crear gráfico horizontal\n",
        "plt.figure(figsize=(10, 6))\n",
        "\n",
        "# Colores opcionales\n",
        "colores = ['#FF8A65', '#4FC3F7', '#AED581', '#BA68C8']\n",
        "\n",
        "# Dibujamos las barras horizontales\n",
        "barras = plt.barh(tiendas, costos_envio, color=colores)\n",
        "\n",
        "# Título y etiquetas\n",
        "plt.title(\"🚚 Costo Promedio de Envío por Tienda\", fontsize=16, fontweight='bold')\n",
        "plt.xlabel(\"Costo promedio ($)\", fontsize=12)\n",
        "plt.ylabel(\"Tiendas\", fontsize=12)\n",
        "\n",
        "# Agregar etiquetas de valor con formato moneda\n",
        "for barra, costo in zip(barras, costos_envio):\n",
        "    ancho = barra.get_width()\n",
        "    plt.text(ancho + max(costos_envio)*0.01, barra.get_y() + barra.get_height()/2,\n",
        "             f\"${costo:,.2f}\", va='center', fontsize=10, fontweight='bold')\n",
        "\n",
        "# Estética\n",
        "plt.grid(axis='x', linestyle='--', alpha=0.5)\n",
        "plt.box(False)\n",
        "\n",
        "# Mostrar gráfico\n",
        "plt.tight_layout()\n",
        "plt.show()\n"
      ],
      "metadata": {
        "colab": {
          "base_uri": "https://localhost:8080/",
          "height": 676
        },
        "id": "79rcuPajrtCY",
        "outputId": "9eff796d-29c7-4bf2-9fb7-f064f317678f"
      },
      "execution_count": 108,
      "outputs": [
        {
          "output_type": "stream",
          "name": "stderr",
          "text": [
            "<ipython-input-108-ba4947122a19>:26: UserWarning: Glyph 128666 (\\N{DELIVERY TRUCK}) missing from font(s) DejaVu Sans.\n",
            "  plt.tight_layout()\n",
            "/usr/local/lib/python3.11/dist-packages/IPython/core/pylabtools.py:151: UserWarning: Glyph 128666 (\\N{DELIVERY TRUCK}) missing from font(s) DejaVu Sans.\n",
            "  fig.canvas.print_figure(bytes_io, **kw)\n"
          ]
        },
        {
          "output_type": "display_data",
          "data": {
            "text/plain": [
              "<Figure size 1000x600 with 1 Axes>"
            ],
            "image/png": "[encoded data removed]"
          },
          "metadata": {}
        }
      ]
    },
    {
      "cell_type": "markdown",
      "source": [
        "# **Resumen:**"
      ],
      "metadata": {
        "id": "o8on4L6MsLjg"
      }
    },
    {
      "cell_type": "markdown",
      "source": [
        "#### En base a la información recabada de cada tienda y al análisis de datos generados se presenta el siguiente Resumen:\n",
        "\n",
        "#### **Ingresos totales:** Las tiendas 4 y 3 respectivamente presentan el menor ingreso por ventas\n",
        "\n",
        "#### **Ventas de la categoría más fuerte (\"Muebles\"):** Si bien \"Muebles\" es la categoría dominante en todas las tiendas, La tienda N°2 es la que presenta menores ventas en esta categoría, seguida por la tienda N°1, lo que muestra debilidad comercial en ciertas ubicaciones.\n",
        "\n",
        "#### **Calificación promedio:** La percepción del cliente respecto a la calidad del servicio/producto es menor en la tienda N°1, lo que podría afectar la fidelización a largo plazo.\n",
        "\n",
        "#### **Costo de envío promedio:**: Las tiendas 1 y 2 Presentan los costos logisticos más elevados, lo que impacta directamente en la rentabilidad por venta."
      ],
      "metadata": {
        "id": "r8LAsQ0rsRm9"
      }
    },
    {
      "cell_type": "markdown",
      "source": [
        "# **Conclusión: Se recomienda cerrar la Tienda N°1**"
      ],
      "metadata": {
        "id": "aK5ScimzwjIh"
      }
    },
    {
      "cell_type": "markdown",
      "source": [
        "### **La Tienda 1**, a pesar de no tener el peor nivel de ingresos, muestra debilidad en **tres factores estratégicos clave:**\n",
        "\n",
        "### **Baja venta de la categoría más relevante (\"Muebles\")**\n",
        "\n",
        "### **Peor percepción de los clientes (calificación)**\n",
        "\n",
        "### **Costos logísticos más altos**\n",
        "\n",
        "#### Estos factores afectan su rentabilidad y sostenibilidad a largo plazo, por lo que se recomienda **cerrar esta tienda** y enfocar los recursos en las tiendas con mejor desempeño global."
      ],
      "metadata": {
        "id": "nTM5tpN8xF-q"
      }
    }
  ]
}